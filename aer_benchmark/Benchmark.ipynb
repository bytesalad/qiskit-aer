{
 "cells": [
  {
   "cell_type": "code",
   "execution_count": 1,
   "metadata": {},
   "outputs": [],
   "source": [
    "import matplotlib.pyplot as plt\n",
    "%matplotlib inline\n",
    "import numpy as np\n",
    "import math"
   ]
  },
  {
   "cell_type": "code",
   "execution_count": 2,
   "metadata": {},
   "outputs": [],
   "source": [
    "from qiskit import QuantumCircuit, ClassicalRegister, QuantumRegister, execute\n",
    "from qiskit.tools.visualization import circuit_drawer\n",
    "from qiskit.quantum_info import state_fidelity\n",
    "from qiskit import BasicAer\n",
    "backend = BasicAer.get_backend('unitary_simulator')"
   ]
  },
  {
   "cell_type": "code",
   "execution_count": 3,
   "metadata": {},
   "outputs": [],
   "source": [
    "def quantum_fourier_transform_circuit(num_qubits):\n",
    "    \"\"\"Create quantum fourier transform circuit.\n",
    "    Args:\n",
    "        num_qubits (int): Number of qubitsno_qubitno_qubit\n",
    "    Returns:\n",
    "        QuantumCircuit: QFT circuit\n",
    "    \"\"\"\n",
    "    qreg = QuantumRegister(num_qubits)\n",
    "    circuit = QuantumCircuit(qreg, name=\"qft\")\n",
    "    n = len(qreg)\n",
    "    for i in range(n):\n",
    "        for j in range(i):\n",
    "            circuit.cu1(math.pi/float(2**(i-j)), qreg[i], qreg[j])\n",
    "        circuit.h(qreg[i])\n",
    "    return circuit"
   ]
  },
  {
   "cell_type": "code",
   "execution_count": 9,
   "metadata": {},
   "outputs": [],
   "source": [
    "def quantum(i): \n",
    "    qc=quantum_fourier_transform_circuit(i)\n",
    "    job = execute(qc, backend)\n",
    "    job.result().get_unitary(qc, decimals=3)"
   ]
  },
  {
   "cell_type": "code",
   "execution_count": 11,
   "metadata": {},
   "outputs": [
    {
     "name": "stdout",
     "output_type": "stream",
     "text": [
      "Elapsed time by different number of qubits(in seconds)\n",
      "============================================\n",
      "\n",
      "No of qubit\t\tElapsed time\n",
      "--------------------------------------------\n",
      "5 \t\t\t 0.32629686499999977\n",
      "6 \t\t\t 0.43112144799999896\n",
      "7 \t\t\t 0.6851615559999971\n",
      "8 \t\t\t 1.3341882200000015\n",
      "9 \t\t\t 3.4347237380000024\n",
      "10 \t\t\t 10.368597404000006\n"
     ]
    }
   ],
   "source": [
    "import time\n",
    "print('''Elapsed time by different number of qubits(in seconds)\n",
    "============================================\\n\n",
    "No of qubit\\t\\tElapsed time\n",
    "--------------------------------------------''')\n",
    "for i in range(5,11):\n",
    "    t = time.process_time()\n",
    "    quantum(i)\n",
    "    print(i,'\\t\\t\\t',time.process_time() - t)"
   ]
  }
 ],
 "metadata": {
  "kernelspec": {
   "display_name": "Python 3",
   "language": "python",
   "name": "python3"
  },
  "language_info": {
   "codemirror_mode": {
    "name": "ipython",
    "version": 3
   },
   "file_extension": ".py",
   "mimetype": "text/x-python",
   "name": "python",
   "nbconvert_exporter": "python",
   "pygments_lexer": "ipython3",
   "version": "3.7.4"
  }
 },
 "nbformat": 4,
 "nbformat_minor": 2
}
